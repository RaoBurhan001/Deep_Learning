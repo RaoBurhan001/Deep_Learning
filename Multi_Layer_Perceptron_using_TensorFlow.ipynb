{
  "nbformat": 4,
  "nbformat_minor": 0,
  "metadata": {
    "colab": {
      "name": "Multi Layer Perceptron using TensorFlow.ipynb",
      "provenance": [],
      "authorship_tag": "ABX9TyMCyuEd+SxD5X0vg3eqX/Ys",
      "include_colab_link": true
    },
    "kernelspec": {
      "name": "python3",
      "display_name": "Python 3"
    },
    "language_info": {
      "name": "python"
    }
  },
  "cells": [
    {
      "cell_type": "markdown",
      "metadata": {
        "id": "view-in-github",
        "colab_type": "text"
      },
      "source": [
        "<a href=\"https://colab.research.google.com/github/RaoBurhan001/Deep_Learning/blob/main/Multi_Layer_Perceptron_using_TensorFlow.ipynb\" target=\"_parent\"><img src=\"https://colab.research.google.com/assets/colab-badge.svg\" alt=\"Open In Colab\"/></a>"
      ]
    },
    {
      "cell_type": "code",
      "metadata": {
        "id": "YEIebkujlw38"
      },
      "source": [
        ""
      ],
      "execution_count": 5,
      "outputs": []
    },
    {
      "cell_type": "code",
      "metadata": {
        "colab": {
          "base_uri": "https://localhost:8080/"
        },
        "id": "3mWFwx5Zl06A",
        "outputId": "f6a09fad-87e8-4ed8-e3d5-b72c42acd068"
      },
      "source": [
        "pip install tensorflow-datasets\n"
      ],
      "execution_count": 2,
      "outputs": [
        {
          "output_type": "stream",
          "name": "stdout",
          "text": [
            "Requirement already satisfied: tensorflow-datasets in /usr/local/lib/python3.7/dist-packages (4.0.1)\n",
            "Requirement already satisfied: six in /usr/local/lib/python3.7/dist-packages (from tensorflow-datasets) (1.15.0)\n",
            "Requirement already satisfied: attrs>=18.1.0 in /usr/local/lib/python3.7/dist-packages (from tensorflow-datasets) (21.2.0)\n",
            "Requirement already satisfied: importlib-resources in /usr/local/lib/python3.7/dist-packages (from tensorflow-datasets) (5.2.2)\n",
            "Requirement already satisfied: dm-tree in /usr/local/lib/python3.7/dist-packages (from tensorflow-datasets) (0.1.6)\n",
            "Requirement already satisfied: tensorflow-metadata in /usr/local/lib/python3.7/dist-packages (from tensorflow-datasets) (1.2.0)\n",
            "Requirement already satisfied: dill in /usr/local/lib/python3.7/dist-packages (from tensorflow-datasets) (0.3.4)\n",
            "Requirement already satisfied: protobuf>=3.6.1 in /usr/local/lib/python3.7/dist-packages (from tensorflow-datasets) (3.17.3)\n",
            "Requirement already satisfied: termcolor in /usr/local/lib/python3.7/dist-packages (from tensorflow-datasets) (1.1.0)\n",
            "Requirement already satisfied: promise in /usr/local/lib/python3.7/dist-packages (from tensorflow-datasets) (2.3)\n",
            "Requirement already satisfied: absl-py in /usr/local/lib/python3.7/dist-packages (from tensorflow-datasets) (0.12.0)\n",
            "Requirement already satisfied: requests>=2.19.0 in /usr/local/lib/python3.7/dist-packages (from tensorflow-datasets) (2.23.0)\n",
            "Requirement already satisfied: tqdm in /usr/local/lib/python3.7/dist-packages (from tensorflow-datasets) (4.62.0)\n",
            "Requirement already satisfied: numpy in /usr/local/lib/python3.7/dist-packages (from tensorflow-datasets) (1.19.5)\n",
            "Requirement already satisfied: future in /usr/local/lib/python3.7/dist-packages (from tensorflow-datasets) (0.16.0)\n",
            "Requirement already satisfied: idna<3,>=2.5 in /usr/local/lib/python3.7/dist-packages (from requests>=2.19.0->tensorflow-datasets) (2.10)\n",
            "Requirement already satisfied: chardet<4,>=3.0.2 in /usr/local/lib/python3.7/dist-packages (from requests>=2.19.0->tensorflow-datasets) (3.0.4)\n",
            "Requirement already satisfied: urllib3!=1.25.0,!=1.25.1,<1.26,>=1.21.1 in /usr/local/lib/python3.7/dist-packages (from requests>=2.19.0->tensorflow-datasets) (1.24.3)\n",
            "Requirement already satisfied: certifi>=2017.4.17 in /usr/local/lib/python3.7/dist-packages (from requests>=2.19.0->tensorflow-datasets) (2021.5.30)\n",
            "Requirement already satisfied: zipp>=3.1.0 in /usr/local/lib/python3.7/dist-packages (from importlib-resources->tensorflow-datasets) (3.5.0)\n",
            "Requirement already satisfied: googleapis-common-protos<2,>=1.52.0 in /usr/local/lib/python3.7/dist-packages (from tensorflow-metadata->tensorflow-datasets) (1.53.0)\n"
          ]
        }
      ]
    },
    {
      "cell_type": "code",
      "metadata": {
        "id": "Q6U-ldzGmUin"
      },
      "source": [
        ""
      ],
      "execution_count": null,
      "outputs": []
    },
    {
      "cell_type": "code",
      "metadata": {
        "id": "50mEp9hOmbAw"
      },
      "source": [
        "import tensorflow as tf\n",
        "from keras.datasets import mnist\n",
        "import keras\n"
      ],
      "execution_count": 26,
      "outputs": []
    },
    {
      "cell_type": "code",
      "metadata": {
        "id": "PqoHVN0wmjzP"
      },
      "source": [
        "(X_train , y_train) , (X_test,y_test) =mnist.load_data()"
      ],
      "execution_count": 10,
      "outputs": []
    },
    {
      "cell_type": "code",
      "metadata": {
        "colab": {
          "base_uri": "https://localhost:8080/"
        },
        "id": "zKEmXmV1mz9J",
        "outputId": "d99776e6-ff38-4984-b9a1-3167b9db3e56"
      },
      "source": [
        "print(X_train.shape, y_train.shape)\n",
        "print(X_test.shape, y_test.shape)"
      ],
      "execution_count": 11,
      "outputs": [
        {
          "output_type": "stream",
          "name": "stdout",
          "text": [
            "(60000, 28, 28) (60000,)\n",
            "(10000, 28, 28) (10000,)\n"
          ]
        }
      ]
    },
    {
      "cell_type": "code",
      "metadata": {
        "id": "eMaXQHjsnwtZ"
      },
      "source": [
        "\n",
        "X_train= X_train.reshape(60000,784)\n",
        "X_test= X_test.reshape(10000,784)"
      ],
      "execution_count": 17,
      "outputs": []
    },
    {
      "cell_type": "code",
      "metadata": {
        "colab": {
          "base_uri": "https://localhost:8080/"
        },
        "id": "_3vIDf88oA7h",
        "outputId": "710a5743-2f0f-4b17-aa6d-cfbd06249ec5"
      },
      "source": [
        "print(X_train.shape, y_train.shape)\n",
        "print(X_test.shape, y_test.shape)"
      ],
      "execution_count": 18,
      "outputs": [
        {
          "output_type": "stream",
          "name": "stdout",
          "text": [
            "(60000, 784) (60000,)\n",
            "(10000, 784) (10000,)\n"
          ]
        }
      ]
    },
    {
      "cell_type": "code",
      "metadata": {
        "colab": {
          "base_uri": "https://localhost:8080/",
          "height": 224
        },
        "id": "mggWmalioCzh",
        "outputId": "90952585-2c70-4491-e244-c3fde439d800"
      },
      "source": [
        "\n",
        "import matplotlib.pyplot as plt\n",
        "\n",
        "fig, ax = plt.subplots(nrows=2, ncols=5,\n",
        "                       sharex=True, sharey=True)\n",
        "ax = ax.flatten()\n",
        "for i in range(10):\n",
        "    img = X_train[y_train == i][0].reshape(28, 28)\n",
        "    ax[i].imshow(img, cmap='Greys')\n",
        "\n",
        "ax[0].set_yticks([])\n",
        "\n",
        "ax[0].set_xticks([])\n",
        "plt.tight_layout()\n",
        "plt.show()"
      ],
      "execution_count": 20,
      "outputs": [
        {
          "output_type": "display_data",
          "data": {
            "image/png": "[encoded data removed]",
            "text/plain": [
              "<Figure size 432x288 with 10 Axes>"
            ]
          },
          "metadata": {}
        }
      ]
    },
    {
      "cell_type": "code",
      "metadata": {
        "id": "GEIEVDAaolQZ"
      },
      "source": [
        "import numpy as np\n",
        "\n",
        "np.random.seed(123)\n",
        "tf.random.set_seed(123)\n"
      ],
      "execution_count": 24,
      "outputs": []
    },
    {
      "cell_type": "code",
      "metadata": {
        "colab": {
          "base_uri": "https://localhost:8080/"
        },
        "id": "v-Ljkcjap8Br",
        "outputId": "b4ee5a4f-b5b1-47df-d7e1-e908eaba2967"
      },
      "source": [
        "from tensorflow.keras.utils import to_categorical\n",
        "y_train_one_hot = to_categorical(y_train)\n",
        "\n",
        "print('First 3 labels: ', y_train[:3])\n",
        "print('\\nFirst 3 labels (one-hot):\\n', y_train_one_hot[:3])"
      ],
      "execution_count": 28,
      "outputs": [
        {
          "output_type": "stream",
          "name": "stdout",
          "text": [
            "First 3 labels:  [5 0 4]\n",
            "\n",
            "First 3 labels (one-hot):\n",
            " [[0. 0. 0. 0. 0. 1. 0. 0. 0. 0.]\n",
            " [1. 0. 0. 0. 0. 0. 0. 0. 0. 0.]\n",
            " [0. 0. 0. 0. 1. 0. 0. 0. 0. 0.]]\n"
          ]
        }
      ]
    },
    {
      "cell_type": "code",
      "metadata": {
        "colab": {
          "base_uri": "https://localhost:8080/"
        },
        "id": "heUJn5aUqmx9",
        "outputId": "c0da187f-34b5-4108-bd59-7c0c7a88dc28"
      },
      "source": [
        "from keras.layers import Dense,Conv2D, Flatten,MaxPooling2D,Dropout\n",
        "from keras.models import Sequential\n",
        "\n",
        "#initialize model\n",
        "model = Sequential()\n",
        "\n",
        "#Initialize the input layer\n",
        "\n",
        "model.add(Dense(units=50, activation='relu'  , kernel_initializer='glorot_uniform' ,bias_initializer='zeros' ,input_dim = X_train.shape[1]))\n",
        "\n",
        "#Add a hidden layer\n",
        "\n",
        "model.add(Dense(units=50, activation='relu'  , kernel_initializer='glorot_uniform' ,bias_initializer='zeros' ,input_dim =50))\n",
        "\n",
        "#Add output layer\n",
        "\n",
        "model.add(Dense(units=y_train_one_hot.shape[1], activation='softmax'  , kernel_initializer='glorot_uniform' ,bias_initializer='zeros' ,input_dim = 50))\n",
        "\n",
        "\n",
        "#Add a optimizer\n",
        "\n",
        "sgd_optimizer = tf.keras.optimizers.SGD(  lr=0.001, decay=1e-7, momentum=0.9)\n",
        "\n",
        "#compile the model \n",
        "\n",
        "model.compile(\n",
        "    optimizer='Adam',\n",
        "    loss='categorical_crossentropy',\n",
        "    metrics=['accuracy']\n",
        ")"
      ],
      "execution_count": 56,
      "outputs": [
        {
          "output_type": "stream",
          "name": "stderr",
          "text": [
            "/usr/local/lib/python3.7/dist-packages/keras/optimizer_v2/optimizer_v2.py:356: UserWarning: The `lr` argument is deprecated, use `learning_rate` instead.\n",
            "  \"The `lr` argument is deprecated, use `learning_rate` instead.\")\n"
          ]
        }
      ]
    },
    {
      "cell_type": "code",
      "metadata": {
        "colab": {
          "base_uri": "https://localhost:8080/"
        },
        "id": "WjPZ4c7JrlFo",
        "outputId": "f1333e50-b66e-4ffc-8f4d-1bcc765f3738"
      },
      "source": [
        "history = model.fit(X_train , y_train_one_hot , batch_size=64, epochs=50 , verbose=1 , validation_split=0.1)"
      ],
      "execution_count": 57,
      "outputs": [
        {
          "output_type": "stream",
          "name": "stdout",
          "text": [
            "Epoch 1/50\n",
            "844/844 [==============================] - 3s 3ms/step - loss: 2.2108 - accuracy: 0.7378 - val_loss: 0.4786 - val_accuracy: 0.8745\n",
            "Epoch 2/50\n",
            "844/844 [==============================] - 2s 2ms/step - loss: 0.4799 - accuracy: 0.8739 - val_loss: 0.3254 - val_accuracy: 0.9107\n",
            "Epoch 3/50\n",
            "844/844 [==============================] - 2s 3ms/step - loss: 0.3605 - accuracy: 0.9041 - val_loss: 0.3001 - val_accuracy: 0.9297\n",
            "Epoch 4/50\n",
            "844/844 [==============================] - 2s 3ms/step - loss: 0.3189 - accuracy: 0.9149 - val_loss: 0.2662 - val_accuracy: 0.9343\n",
            "Epoch 5/50\n",
            "844/844 [==============================] - 2s 3ms/step - loss: 0.2798 - accuracy: 0.9248 - val_loss: 0.2445 - val_accuracy: 0.9363\n",
            "Epoch 6/50\n",
            "844/844 [==============================] - 2s 3ms/step - loss: 0.2517 - accuracy: 0.9317 - val_loss: 0.2111 - val_accuracy: 0.9455\n",
            "Epoch 7/50\n",
            "844/844 [==============================] - 2s 3ms/step - loss: 0.2331 - accuracy: 0.9364 - val_loss: 0.2190 - val_accuracy: 0.9437\n",
            "Epoch 8/50\n",
            "844/844 [==============================] - 2s 3ms/step - loss: 0.2153 - accuracy: 0.9420 - val_loss: 0.2245 - val_accuracy: 0.9430\n",
            "Epoch 9/50\n",
            "844/844 [==============================] - 2s 3ms/step - loss: 0.2007 - accuracy: 0.9437 - val_loss: 0.1897 - val_accuracy: 0.9548\n",
            "Epoch 10/50\n",
            "844/844 [==============================] - 2s 3ms/step - loss: 0.1883 - accuracy: 0.9475 - val_loss: 0.2073 - val_accuracy: 0.9507\n",
            "Epoch 11/50\n",
            "844/844 [==============================] - 2s 3ms/step - loss: 0.1723 - accuracy: 0.9509 - val_loss: 0.1828 - val_accuracy: 0.9563\n",
            "Epoch 12/50\n",
            "844/844 [==============================] - 2s 3ms/step - loss: 0.1650 - accuracy: 0.9531 - val_loss: 0.1872 - val_accuracy: 0.9562\n",
            "Epoch 13/50\n",
            "844/844 [==============================] - 2s 3ms/step - loss: 0.1549 - accuracy: 0.9559 - val_loss: 0.1696 - val_accuracy: 0.9540\n",
            "Epoch 14/50\n",
            "844/844 [==============================] - 2s 3ms/step - loss: 0.1424 - accuracy: 0.9580 - val_loss: 0.1781 - val_accuracy: 0.9585\n",
            "Epoch 15/50\n",
            "844/844 [==============================] - 2s 3ms/step - loss: 0.1353 - accuracy: 0.9594 - val_loss: 0.2005 - val_accuracy: 0.9568\n",
            "Epoch 16/50\n",
            "844/844 [==============================] - 2s 2ms/step - loss: 0.1292 - accuracy: 0.9624 - val_loss: 0.1617 - val_accuracy: 0.9600\n",
            "Epoch 17/50\n",
            "844/844 [==============================] - 2s 3ms/step - loss: 0.1248 - accuracy: 0.9630 - val_loss: 0.1640 - val_accuracy: 0.9628\n",
            "Epoch 18/50\n",
            "844/844 [==============================] - 2s 3ms/step - loss: 0.1182 - accuracy: 0.9642 - val_loss: 0.1688 - val_accuracy: 0.9612\n",
            "Epoch 19/50\n",
            "844/844 [==============================] - 2s 3ms/step - loss: 0.1150 - accuracy: 0.9657 - val_loss: 0.1552 - val_accuracy: 0.9630\n",
            "Epoch 20/50\n",
            "844/844 [==============================] - 2s 3ms/step - loss: 0.1102 - accuracy: 0.9670 - val_loss: 0.1554 - val_accuracy: 0.9632\n",
            "Epoch 21/50\n",
            "844/844 [==============================] - 2s 2ms/step - loss: 0.1096 - accuracy: 0.9669 - val_loss: 0.1437 - val_accuracy: 0.9658\n",
            "Epoch 22/50\n",
            "844/844 [==============================] - 2s 2ms/step - loss: 0.1038 - accuracy: 0.9695 - val_loss: 0.1499 - val_accuracy: 0.9637\n",
            "Epoch 23/50\n",
            "844/844 [==============================] - 2s 3ms/step - loss: 0.1034 - accuracy: 0.9695 - val_loss: 0.1621 - val_accuracy: 0.9588\n",
            "Epoch 24/50\n",
            "844/844 [==============================] - 2s 3ms/step - loss: 0.0955 - accuracy: 0.9705 - val_loss: 0.1407 - val_accuracy: 0.9635\n",
            "Epoch 25/50\n",
            "844/844 [==============================] - 2s 2ms/step - loss: 0.0922 - accuracy: 0.9722 - val_loss: 0.1397 - val_accuracy: 0.9668\n",
            "Epoch 26/50\n",
            "844/844 [==============================] - 2s 3ms/step - loss: 0.0926 - accuracy: 0.9717 - val_loss: 0.1575 - val_accuracy: 0.9617\n",
            "Epoch 27/50\n",
            "844/844 [==============================] - 2s 2ms/step - loss: 0.0845 - accuracy: 0.9744 - val_loss: 0.1603 - val_accuracy: 0.9628\n",
            "Epoch 28/50\n",
            "844/844 [==============================] - 2s 3ms/step - loss: 0.0886 - accuracy: 0.9733 - val_loss: 0.1377 - val_accuracy: 0.9663\n",
            "Epoch 29/50\n",
            "844/844 [==============================] - 2s 3ms/step - loss: 0.0832 - accuracy: 0.9746 - val_loss: 0.1642 - val_accuracy: 0.9645\n",
            "Epoch 30/50\n",
            "844/844 [==============================] - 2s 3ms/step - loss: 0.0821 - accuracy: 0.9754 - val_loss: 0.1495 - val_accuracy: 0.9670\n",
            "Epoch 31/50\n",
            "844/844 [==============================] - 2s 3ms/step - loss: 0.0807 - accuracy: 0.9756 - val_loss: 0.1564 - val_accuracy: 0.9637\n",
            "Epoch 32/50\n",
            "844/844 [==============================] - 2s 3ms/step - loss: 0.0790 - accuracy: 0.9760 - val_loss: 0.1637 - val_accuracy: 0.9658\n",
            "Epoch 33/50\n",
            "844/844 [==============================] - 2s 3ms/step - loss: 0.0767 - accuracy: 0.9773 - val_loss: 0.1853 - val_accuracy: 0.9635\n",
            "Epoch 34/50\n",
            "844/844 [==============================] - 2s 3ms/step - loss: 0.0762 - accuracy: 0.9772 - val_loss: 0.1608 - val_accuracy: 0.9678\n",
            "Epoch 35/50\n",
            "844/844 [==============================] - 2s 3ms/step - loss: 0.0737 - accuracy: 0.9774 - val_loss: 0.1670 - val_accuracy: 0.9670\n",
            "Epoch 36/50\n",
            "844/844 [==============================] - 2s 3ms/step - loss: 0.0709 - accuracy: 0.9791 - val_loss: 0.1713 - val_accuracy: 0.9672\n",
            "Epoch 37/50\n",
            "844/844 [==============================] - 2s 3ms/step - loss: 0.0712 - accuracy: 0.9783 - val_loss: 0.1656 - val_accuracy: 0.9675\n",
            "Epoch 38/50\n",
            "844/844 [==============================] - 2s 3ms/step - loss: 0.0681 - accuracy: 0.9793 - val_loss: 0.1682 - val_accuracy: 0.9658\n",
            "Epoch 39/50\n",
            "844/844 [==============================] - 2s 3ms/step - loss: 0.0674 - accuracy: 0.9794 - val_loss: 0.1750 - val_accuracy: 0.9677\n",
            "Epoch 40/50\n",
            "844/844 [==============================] - 2s 3ms/step - loss: 0.0653 - accuracy: 0.9811 - val_loss: 0.1789 - val_accuracy: 0.9673\n",
            "Epoch 41/50\n",
            "844/844 [==============================] - 2s 3ms/step - loss: 0.0633 - accuracy: 0.9811 - val_loss: 0.1804 - val_accuracy: 0.9668\n",
            "Epoch 42/50\n",
            "844/844 [==============================] - 2s 3ms/step - loss: 0.0661 - accuracy: 0.9808 - val_loss: 0.1922 - val_accuracy: 0.9653\n",
            "Epoch 43/50\n",
            "844/844 [==============================] - 2s 3ms/step - loss: 0.0631 - accuracy: 0.9812 - val_loss: 0.1941 - val_accuracy: 0.9653\n",
            "Epoch 44/50\n",
            "844/844 [==============================] - 2s 3ms/step - loss: 0.0657 - accuracy: 0.9810 - val_loss: 0.1807 - val_accuracy: 0.9663\n",
            "Epoch 45/50\n",
            "844/844 [==============================] - 2s 3ms/step - loss: 0.0621 - accuracy: 0.9819 - val_loss: 0.1755 - val_accuracy: 0.9655\n",
            "Epoch 46/50\n",
            "844/844 [==============================] - 2s 3ms/step - loss: 0.0665 - accuracy: 0.9806 - val_loss: 0.1981 - val_accuracy: 0.9648\n",
            "Epoch 47/50\n",
            "844/844 [==============================] - 2s 3ms/step - loss: 0.0558 - accuracy: 0.9841 - val_loss: 0.2058 - val_accuracy: 0.9618\n",
            "Epoch 48/50\n",
            "844/844 [==============================] - 2s 3ms/step - loss: 0.0551 - accuracy: 0.9839 - val_loss: 0.1972 - val_accuracy: 0.9690\n",
            "Epoch 49/50\n",
            "844/844 [==============================] - 2s 3ms/step - loss: 0.0600 - accuracy: 0.9825 - val_loss: 0.2292 - val_accuracy: 0.9643\n",
            "Epoch 50/50\n",
            "844/844 [==============================] - 2s 3ms/step - loss: 0.0580 - accuracy: 0.9831 - val_loss: 0.1926 - val_accuracy: 0.9643\n"
          ]
        }
      ]
    },
    {
      "cell_type": "code",
      "metadata": {
        "colab": {
          "base_uri": "https://localhost:8080/"
        },
        "id": "ecYpbMx0vuky",
        "outputId": "319a39b6-7109-43af-8a3f-fdd8d4c6f884"
      },
      "source": [
        "y_pred = model.predict(X_train)\n",
        "y_pred = np.round(y_pred).astype(int)\n",
        "print('First 3 predictions: ', y_pred[:3])"
      ],
      "execution_count": 43,
      "outputs": [
        {
          "output_type": "stream",
          "name": "stdout",
          "text": [
            "First 3 predictions:  [[0 0 0 1 0 0 0 0 0 0]\n",
            " [1 0 0 0 0 0 0 0 0 0]\n",
            " [0 0 0 0 0 0 0 0 0 0]]\n"
          ]
        }
      ]
    },
    {
      "cell_type": "code",
      "metadata": {
        "colab": {
          "base_uri": "https://localhost:8080/"
        },
        "id": "L1Jj28lewWRs",
        "outputId": "2209856f-9526-4c44-e601-205ab50f50c0"
      },
      "source": [
        "y_train_predict = model.predict(X_test[:10])\n",
        "y_train_predict"
      ],
      "execution_count": 53,
      "outputs": [
        {
          "output_type": "execute_result",
          "data": {
            "text/plain": [
              "array([[9.08072639e-09, 2.26642416e-09, 5.81985187e-05, 1.71867887e-05,\n",
              "        2.81875074e-08, 1.55052840e-06, 1.18344202e-12, 9.99890447e-01,\n",
              "        2.10881367e-07, 3.22870619e-05],\n",
              "       [7.91285653e-03, 1.52247236e-03, 9.30401206e-01, 3.50981653e-02,\n",
              "        8.64142748e-06, 1.67110120e-03, 2.86843060e-05, 2.16702875e-02,\n",
              "        1.64692313e-03, 3.96223331e-05],\n",
              "       [1.72519913e-06, 9.93682146e-01, 5.78788786e-05, 2.52701400e-04,\n",
              "        2.35166735e-04, 1.07654545e-03, 5.54209168e-04, 6.65109954e-04,\n",
              "        1.77731185e-04, 3.29681556e-03],\n",
              "       [9.99574006e-01, 8.17563617e-09, 9.91046727e-06, 1.23448963e-05,\n",
              "        2.15737737e-06, 2.74417282e-04, 2.82644191e-06, 1.02543025e-04,\n",
              "        2.65915698e-08, 2.17645447e-05],\n",
              "       [3.59415537e-07, 4.06615861e-08, 1.03563316e-05, 3.43923223e-09,\n",
              "        9.92877185e-01, 2.87990861e-06, 9.70391557e-05, 2.57982429e-05,\n",
              "        3.58876434e-07, 6.98597962e-03],\n",
              "       [8.17372925e-09, 9.99306440e-01, 2.77986169e-06, 1.91124800e-05,\n",
              "        1.51592376e-05, 3.63245344e-05, 2.45604369e-05, 1.15227616e-04,\n",
              "        1.63669738e-05, 4.63974022e-04],\n",
              "       [2.50228186e-06, 1.53045985e-05, 5.27445263e-05, 5.36112871e-04,\n",
              "        8.26827228e-01, 7.16273091e-04, 1.49484279e-07, 2.19862978e-03,\n",
              "        1.10108068e-03, 1.68549970e-01],\n",
              "       [9.08890883e-08, 3.19845749e-05, 5.35094250e-06, 9.29306960e-04,\n",
              "        1.11209594e-01, 2.57232430e-04, 2.20049913e-07, 1.35715923e-03,\n",
              "        7.77616282e-04, 8.85431468e-01],\n",
              "       [3.10653508e-01, 8.96077696e-03, 6.18733726e-02, 1.47583084e-02,\n",
              "        3.53031419e-02, 1.28354087e-01, 3.75412494e-01, 1.17717963e-02,\n",
              "        3.23616229e-02, 2.05509458e-02],\n",
              "       [6.08380127e-14, 1.50327480e-07, 6.15597406e-10, 1.04494884e-05,\n",
              "        2.90795171e-04, 7.71521940e-08, 1.32966494e-11, 6.37618723e-05,\n",
              "        1.46875050e-06, 9.99633312e-01]], dtype=float32)"
            ]
          },
          "metadata": {},
          "execution_count": 53
        }
      ]
    },
    {
      "cell_type": "code",
      "metadata": {
        "colab": {
          "base_uri": "https://localhost:8080/"
        },
        "id": "RTKV-sLuxxfK",
        "outputId": "145656b8-2973-4918-9510-aaf50449c092"
      },
      "source": [
        "y_test[:10]"
      ],
      "execution_count": 46,
      "outputs": [
        {
          "output_type": "execute_result",
          "data": {
            "text/plain": [
              "array([7, 2, 1, 0, 4, 1, 4, 9, 5, 9], dtype=uint8)"
            ]
          },
          "metadata": {},
          "execution_count": 46
        }
      ]
    },
    {
      "cell_type": "code",
      "metadata": {
        "colab": {
          "base_uri": "https://localhost:8080/"
        },
        "id": "26Q5zFNTx0LX",
        "outputId": "d7938773-810c-4ab4-a940-4b29f98b794b"
      },
      "source": [
        ""
      ],
      "execution_count": 51,
      "outputs": [
        {
          "output_type": "stream",
          "name": "stdout",
          "text": [
            "0\n"
          ]
        },
        {
          "output_type": "stream",
          "name": "stderr",
          "text": [
            "/usr/local/lib/python3.7/dist-packages/ipykernel_launcher.py:1: DeprecationWarning: elementwise comparison failed; this will raise an error in the future.\n",
            "  \"\"\"Entry point for launching an IPython kernel.\n"
          ]
        }
      ]
    },
    {
      "cell_type": "code",
      "metadata": {
        "id": "PrTozt9xyLpW"
      },
      "source": [
        ""
      ],
      "execution_count": null,
      "outputs": []
    }
  ]
}