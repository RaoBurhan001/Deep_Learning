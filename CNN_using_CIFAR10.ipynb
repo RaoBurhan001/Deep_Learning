{
  "nbformat": 4,
  "nbformat_minor": 0,
  "metadata": {
    "colab": {
      "name": "CNN using CIFAR10.ipynb",
      "provenance": [],
      "collapsed_sections": [],
      "authorship_tag": "ABX9TyOyWnoBb0V1VfIPcX6g3URQ",
      "include_colab_link": true
    },
    "kernelspec": {
      "name": "python3",
      "display_name": "Python 3"
    },
    "language_info": {
      "name": "python"
    }
  },
  "cells": [
    {
      "cell_type": "markdown",
      "metadata": {
        "id": "view-in-github",
        "colab_type": "text"
      },
      "source": [
        "<a href=\"https://colab.research.google.com/github/RaoBurhan001/Deep_Learning/blob/main/CNN_using_CIFAR10.ipynb\" target=\"_parent\"><img src=\"https://colab.research.google.com/assets/colab-badge.svg\" alt=\"Open In Colab\"/></a>"
      ]
    },
    {
      "cell_type": "code",
      "metadata": {
        "id": "Qt5TmyHDhzEY"
      },
      "source": [
        "import tensorflow as tf\n",
        "from tensorflow.keras.datasets import cifar10\n",
        "import matplotlib.pyplot as plt\n",
        "import numpy as np"
      ],
      "execution_count": 14,
      "outputs": []
    },
    {
      "cell_type": "code",
      "metadata": {
        "colab": {
          "base_uri": "https://localhost:8080/"
        },
        "id": "qlmJyl-kh-V9",
        "outputId": "f4263382-9180-4951-831a-4040bb8b48a3"
      },
      "source": [
        "(X_train, y_train), (X_test,y_test) = cifar10.load_data()\n",
        "print(\"X_Train shape:\",X_train.shape)\n",
        "print(\"X_Test shape:\",X_test.shape)\n",
        "print(\"y_Train shape:\",y_train.shape)\n",
        "print(\"y_Test shape:\",y_test.shape)\n"
      ],
      "execution_count": 3,
      "outputs": [
        {
          "output_type": "stream",
          "text": [
            "Downloading data from https://www.cs.toronto.edu/~kriz/cifar-10-python.tar.gz\n",
            "170500096/170498071 [==============================] - 2s 0us/step\n",
            "170508288/170498071 [==============================] - 2s 0us/step\n",
            "X_Train shape: (50000, 32, 32, 3)\n",
            "X_Test shape: (10000, 32, 32, 3)\n",
            "y_Train shape: (50000, 1)\n",
            "y_Test shape: (10000, 1)\n"
          ],
          "name": "stdout"
        }
      ]
    },
    {
      "cell_type": "code",
      "metadata": {
        "id": "zje44eIiigGD",
        "colab": {
          "base_uri": "https://localhost:8080/"
        },
        "outputId": "1dbe0884-6496-4462-bcbb-28375635ab4e"
      },
      "source": [
        "classes = [\"airplane\",\"automobile\",\"bird\",\"cat\",\"deer\",\"dog\",\"frog\",\"horse\",\"ship\",\"truck\"]\n",
        "X_train=X_train/255.0\n",
        "X_train.shape\n",
        "X_test=X_test/255.0\n",
        "X_test.shape\n",
        "\n",
        "\n",
        "y_train = y_train.reshape(-1,)\n",
        "y_test= y_test.reshape(-1,)\n",
        "print(\"Y_train :\" , y_train)\n",
        "print(\"Y_test :\" , y_test)\n"
      ],
      "execution_count": 4,
      "outputs": [
        {
          "output_type": "stream",
          "text": [
            "Y_train : [6 9 9 ... 9 1 1]\n",
            "Y_test : [3 8 8 ... 5 1 7]\n"
          ],
          "name": "stdout"
        }
      ]
    },
    {
      "cell_type": "code",
      "metadata": {
        "id": "WeQBayhxkMob"
      },
      "source": [
        ""
      ],
      "execution_count": 4,
      "outputs": []
    },
    {
      "cell_type": "code",
      "metadata": {
        "id": "HWX_K3oKkYui"
      },
      "source": [
        "\n",
        "\n"
      ],
      "execution_count": 4,
      "outputs": []
    },
    {
      "cell_type": "code",
      "metadata": {
        "id": "As4He3qpjX-N"
      },
      "source": [
        "def plot_sample(X, y, index):\n",
        "    plt.figure(figsize = (15,2))\n",
        "    plt.imshow(X[index])\n",
        "    plt.xlabel(classes[y[index]])\n"
      ],
      "execution_count": 5,
      "outputs": []
    },
    {
      "cell_type": "code",
      "metadata": {
        "colab": {
          "base_uri": "https://localhost:8080/",
          "height": 173
        },
        "id": "NxoLr0w9kHw5",
        "outputId": "9ca2612c-98a5-4984-a470-e59c6606668e"
      },
      "source": [
        "\n",
        "plot_sample(X_train, y_train, 2)"
      ],
      "execution_count": 6,
      "outputs": [
        {
          "output_type": "display_data",
          "data": {
            "image/png": "[encoded data removed]",
            "text/plain": [
              "<Figure size 1080x144 with 1 Axes>"
            ]
          },
          "metadata": {
            "needs_background": "light"
          }
        }
      ]
    },
    {
      "cell_type": "code",
      "metadata": {
        "id": "BBXaJZVrkI2M"
      },
      "source": [
        "#Building the model\n",
        "\n",
        "model = tf.keras.Sequential()\n",
        "model.add(tf.keras.layers.Conv2D(32,kernel_size=3 , padding=\"SAME\", input_shape=(32,32,3) , activation='relu'))\n",
        "model.add(tf.keras.layers.Conv2D(64,kernel_size=3 , padding=\"SAME\", activation='relu'))\n",
        "\n",
        "model.add(tf.keras.layers.MaxPooling2D(pool_size=(2,2) , padding='valid' , strides=2))\n",
        "\n",
        "model.add(tf.keras.layers.Dropout(0.2))\n",
        "\n",
        "model.add(tf.keras.layers.Flatten())\n",
        "\n",
        "model.add(tf.keras.layers.Dense(128, activation='relu'))\n",
        "model.add(tf.keras.layers.Dense(10, activation='softmax'))"
      ],
      "execution_count": 7,
      "outputs": []
    },
    {
      "cell_type": "code",
      "metadata": {
        "id": "5NGDxNVnlFty"
      },
      "source": [
        "model.compile(optimizer='Adam' , loss='sparse_categorical_crossentropy' , metrics=['accuracy'])"
      ],
      "execution_count": 8,
      "outputs": []
    },
    {
      "cell_type": "code",
      "metadata": {
        "colab": {
          "base_uri": "https://localhost:8080/"
        },
        "id": "ODXB_LJ6xP2R",
        "outputId": "b8f4d10e-4a31-4ee0-9f5c-3ccb01db7903"
      },
      "source": [
        "model.fit(X_train, y_train, validation_data=(X_test, y_test), epochs=10)"
      ],
      "execution_count": 16,
      "outputs": [
        {
          "output_type": "stream",
          "text": [
            "Epoch 1/10\n",
            "1563/1563 [==============================] - 218s 139ms/step - loss: 0.7220 - accuracy: 0.7455 - val_loss: 0.9254 - val_accuracy: 0.6879\n",
            "Epoch 2/10\n",
            "1563/1563 [==============================] - 219s 140ms/step - loss: 0.6301 - accuracy: 0.7775 - val_loss: 0.9212 - val_accuracy: 0.6852\n",
            "Epoch 3/10\n",
            "1563/1563 [==============================] - 221s 142ms/step - loss: 0.5476 - accuracy: 0.8064 - val_loss: 0.9875 - val_accuracy: 0.6828\n",
            "Epoch 4/10\n",
            "1563/1563 [==============================] - 220s 141ms/step - loss: 0.4745 - accuracy: 0.8316 - val_loss: 0.9709 - val_accuracy: 0.6888\n",
            "Epoch 5/10\n",
            "1563/1563 [==============================] - 219s 140ms/step - loss: 0.4090 - accuracy: 0.8549 - val_loss: 1.0571 - val_accuracy: 0.6849\n",
            "Epoch 6/10\n",
            "1563/1563 [==============================] - 220s 141ms/step - loss: 0.3517 - accuracy: 0.8757 - val_loss: 1.1568 - val_accuracy: 0.6853\n",
            "Epoch 7/10\n",
            "1563/1563 [==============================] - 219s 140ms/step - loss: 0.3020 - accuracy: 0.8914 - val_loss: 1.1860 - val_accuracy: 0.6854\n",
            "Epoch 8/10\n",
            "1563/1563 [==============================] - 219s 140ms/step - loss: 0.2671 - accuracy: 0.9042 - val_loss: 1.2628 - val_accuracy: 0.6785\n",
            "Epoch 9/10\n",
            "1563/1563 [==============================] - 223s 142ms/step - loss: 0.2397 - accuracy: 0.9141 - val_loss: 1.3586 - val_accuracy: 0.6799\n",
            "Epoch 10/10\n",
            "1563/1563 [==============================] - 221s 141ms/step - loss: 0.2092 - accuracy: 0.9258 - val_loss: 1.4889 - val_accuracy: 0.6721\n"
          ],
          "name": "stdout"
        },
        {
          "output_type": "execute_result",
          "data": {
            "text/plain": [
              "<keras.callbacks.History at 0x7f6bd0b5b410>"
            ]
          },
          "metadata": {},
          "execution_count": 16
        }
      ]
    },
    {
      "cell_type": "code",
      "metadata": {
        "colab": {
          "base_uri": "https://localhost:8080/"
        },
        "id": "7EJ7I30hxc7e",
        "outputId": "641118fc-7482-4e5d-b7a7-acad05e29f56"
      },
      "source": [
        "model.evaluate(X_test, y_test)"
      ],
      "execution_count": 17,
      "outputs": [
        {
          "output_type": "stream",
          "text": [
            "313/313 [==============================] - 10s 33ms/step - loss: 1.4889 - accuracy: 0.6721\n"
          ],
          "name": "stdout"
        },
        {
          "output_type": "execute_result",
          "data": {
            "text/plain": [
              "[1.4889167547225952, 0.6721000075340271]"
            ]
          },
          "metadata": {},
          "execution_count": 17
        }
      ]
    },
    {
      "cell_type": "code",
      "metadata": {
        "colab": {
          "base_uri": "https://localhost:8080/"
        },
        "id": "6qwuC1wmiZoq",
        "outputId": "12ccb597-3176-4a10-9336-407f0d6675d1"
      },
      "source": [
        "y_pred = model.predict(X_test)\n",
        "y_pred[:5]"
      ],
      "execution_count": 18,
      "outputs": [
        {
          "output_type": "execute_result",
          "data": {
            "text/plain": [
              "array([[2.4415732e-07, 1.1941406e-09, 4.2222869e-03, 8.2505101e-01,\n",
              "        1.7768398e-05, 1.6863325e-01, 1.9351643e-03, 2.5069468e-08,\n",
              "        1.3789018e-04, 2.4222204e-06],\n",
              "       [3.9355771e-07, 3.2076568e-04, 6.7516983e-13, 1.4712037e-15,\n",
              "        2.6827947e-12, 9.7502816e-17, 4.1772563e-18, 2.8221393e-20,\n",
              "        9.9967885e-01, 4.9872679e-09],\n",
              "       [6.7095888e-01, 1.3653128e-02, 9.0658087e-03, 9.7511247e-07,\n",
              "        2.2011132e-03, 4.3036144e-07, 9.0792710e-06, 4.9864687e-04,\n",
              "        2.8222781e-01, 2.1384217e-02],\n",
              "       [7.9864866e-01, 3.0846740e-04, 6.7983312e-03, 1.6259686e-05,\n",
              "        4.3280938e-04, 7.2731854e-07, 1.6804383e-04, 4.4948639e-08,\n",
              "        1.9328617e-01, 3.4049878e-04],\n",
              "       [9.0443280e-17, 2.7756608e-12, 4.0437837e-05, 4.3657250e-04,\n",
              "        9.6553960e-04, 1.4124319e-04, 9.9841619e-01, 3.9429505e-11,\n",
              "        9.8151357e-12, 1.2695399e-12]], dtype=float32)"
            ]
          },
          "metadata": {},
          "execution_count": 18
        }
      ]
    },
    {
      "cell_type": "code",
      "metadata": {
        "id": "KA-XmSRrmmiF",
        "outputId": "d4a73fc9-787b-4c02-a152-dd475e7c7c58",
        "colab": {
          "base_uri": "https://localhost:8080/"
        }
      },
      "source": [
        "y_classes = [np.argmax(element) for element in y_pred]\n",
        "y_classes[:5]"
      ],
      "execution_count": 15,
      "outputs": [
        {
          "output_type": "execute_result",
          "data": {
            "text/plain": [
              "[5, 8, 8, 8, 6]"
            ]
          },
          "metadata": {},
          "execution_count": 15
        }
      ]
    },
    {
      "cell_type": "code",
      "metadata": {
        "id": "4LilmnEhmzcP"
      },
      "source": [
        ""
      ],
      "execution_count": null,
      "outputs": []
    }
  ]
}