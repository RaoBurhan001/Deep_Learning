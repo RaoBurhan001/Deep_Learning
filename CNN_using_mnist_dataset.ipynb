{
  "nbformat": 4,
  "nbformat_minor": 0,
  "metadata": {
    "colab": {
      "name": "CNN using mnist dataset.ipynb",
      "provenance": [],
      "authorship_tag": "ABX9TyNR9Bogq6qMbx2/NDOimHT1",
      "include_colab_link": true
    },
    "kernelspec": {
      "name": "python3",
      "display_name": "Python 3"
    },
    "language_info": {
      "name": "python"
    }
  },
  "cells": [
    {
      "cell_type": "markdown",
      "metadata": {
        "id": "view-in-github",
        "colab_type": "text"
      },
      "source": [
        "<a href=\"https://colab.research.google.com/github/RaoBurhan001/Deep_Learning/blob/main/CNN_using_mnist_dataset.ipynb\" target=\"_parent\"><img src=\"https://colab.research.google.com/assets/colab-badge.svg\" alt=\"Open In Colab\"/></a>"
      ]
    },
    {
      "cell_type": "code",
      "metadata": {
        "id": "oZjF2LRMVgvd"
      },
      "source": [
        "from keras.datasets import mnist"
      ],
      "execution_count": 31,
      "outputs": []
    },
    {
      "cell_type": "code",
      "metadata": {
        "id": "z0MpFexKVp-I"
      },
      "source": [
        "#Loading thre dataset mnist and assigning it to the training ans testing dataser\n",
        "(X_train , y_train) , (X_test,y_test) =mnist.load_data()"
      ],
      "execution_count": 32,
      "outputs": []
    },
    {
      "cell_type": "code",
      "metadata": {
        "colab": {
          "base_uri": "https://localhost:8080/",
          "height": 282
        },
        "id": "rEWaBkemV4Ej",
        "outputId": "1af1ab07-ec90-4487-b056-a0f0609aa679"
      },
      "source": [
        "#Data Exploration to see the shape of the image\n",
        "import matplotlib.pyplot as plt\n",
        "plt.imshow(X_train[0])"
      ],
      "execution_count": 33,
      "outputs": [
        {
          "output_type": "execute_result",
          "data": {
            "text/plain": [
              "<matplotlib.image.AxesImage at 0x7ffa3e472350>"
            ]
          },
          "metadata": {},
          "execution_count": 33
        },
        {
          "output_type": "display_data",
          "data": {
            "image/png": "[encoded data removed]",
            "text/plain": [
              "<Figure size 432x288 with 1 Axes>"
            ]
          },
          "metadata": {
            "needs_background": "light"
          }
        }
      ]
    },
    {
      "cell_type": "code",
      "metadata": {
        "colab": {
          "base_uri": "https://localhost:8080/"
        },
        "id": "8V8gFQHyWMVu",
        "outputId": "ae0c5feb-76f0-47e2-ab86-b0bfe2e8e6d0"
      },
      "source": [
        "X_train[0].shape"
      ],
      "execution_count": 34,
      "outputs": [
        {
          "output_type": "execute_result",
          "data": {
            "text/plain": [
              "(28, 28)"
            ]
          },
          "metadata": {},
          "execution_count": 34
        }
      ]
    },
    {
      "cell_type": "code",
      "metadata": {
        "colab": {
          "base_uri": "https://localhost:8080/"
        },
        "id": "kOOoCJmyWXfZ",
        "outputId": "d700f101-6d89-4539-a63d-0f1ade420c2d"
      },
      "source": [
        "#Data preprocessing (converting the X_train data into the required shape)\n",
        "X_train= X_train.reshape(60000,28,28,1)\n",
        "X_test=X_test.reshape(10000,28,28,1)\n",
        "\n",
        "X_test.shape"
      ],
      "execution_count": 35,
      "outputs": [
        {
          "output_type": "execute_result",
          "data": {
            "text/plain": [
              "(10000, 28, 28, 1)"
            ]
          },
          "metadata": {},
          "execution_count": 35
        }
      ]
    },
    {
      "cell_type": "code",
      "metadata": {
        "colab": {
          "base_uri": "https://localhost:8080/"
        },
        "id": "sEamFzwBW-Rm",
        "outputId": "67ad9fa6-5a18-4222-d063-cb41a0d68212"
      },
      "source": [
        "#One hot encode our target variable\n",
        "from tensorflow.keras.utils import to_categorical\n",
        "y_train = to_categorical(y_train)\n",
        "y_test = to_categorical(y_test)\n",
        "y_train.shape\n"
      ],
      "execution_count": 36,
      "outputs": [
        {
          "output_type": "execute_result",
          "data": {
            "text/plain": [
              "(60000, 10)"
            ]
          },
          "metadata": {},
          "execution_count": 36
        }
      ]
    },
    {
      "cell_type": "code",
      "metadata": {
        "id": "J4bStHNEXUB4"
      },
      "source": [
        "#Building the model\n",
        "from keras.layers import Dense,Conv2D, Flatten\n",
        "from keras.models import Sequential\n",
        "\n",
        "model = Sequential()\n",
        "\n",
        "model.add(Conv2D(64 , kernel_size=3 , activation='relu', input_shape=(28,28,1)))\n",
        "\n",
        "model.add(Conv2D(32, kernel_size=3, activation='relu'))\n",
        "\n",
        "model.add(Flatten())\n",
        "\n",
        "model.add(Dense(10, activation='softmax'))"
      ],
      "execution_count": 37,
      "outputs": []
    },
    {
      "cell_type": "code",
      "metadata": {
        "id": "Wua6NBswYq9c"
      },
      "source": [
        "#Compiling the model\n",
        "\n",
        "model.compile(optimizer='Adam', loss='categorical_crossentropy' , metrics=['accuracy'])"
      ],
      "execution_count": 38,
      "outputs": []
    },
    {
      "cell_type": "code",
      "metadata": {
        "colab": {
          "base_uri": "https://localhost:8080/"
        },
        "id": "_RSmaUIKZAg3",
        "outputId": "857cb0d4-d459-4eca-efda-60981eb8aa3a"
      },
      "source": [
        "#Training the model\n",
        "model.fit(X_train, y_train, validation_data=(X_test, y_test), epochs=3)"
      ],
      "execution_count": 39,
      "outputs": [
        {
          "output_type": "stream",
          "text": [
            "Epoch 1/3\n",
            "1875/1875 [==============================] - 171s 91ms/step - loss: 0.1990 - accuracy: 0.9524 - val_loss: 0.0807 - val_accuracy: 0.9762\n",
            "Epoch 2/3\n",
            "1875/1875 [==============================] - 169s 90ms/step - loss: 0.0634 - accuracy: 0.9799 - val_loss: 0.0714 - val_accuracy: 0.9784\n",
            "Epoch 3/3\n",
            "1875/1875 [==============================] - 169s 90ms/step - loss: 0.0488 - accuracy: 0.9848 - val_loss: 0.0651 - val_accuracy: 0.9808\n"
          ],
          "name": "stdout"
        },
        {
          "output_type": "execute_result",
          "data": {
            "text/plain": [
              "<keras.callbacks.History at 0x7ffa3cb11110>"
            ]
          },
          "metadata": {},
          "execution_count": 39
        }
      ]
    },
    {
      "cell_type": "code",
      "metadata": {
        "colab": {
          "base_uri": "https://localhost:8080/"
        },
        "id": "6OA2DudHZMLJ",
        "outputId": "128743af-3741-412e-bff9-c8526dbc375e"
      },
      "source": [
        "#predict the values\n",
        "model.predict(X_test[:10])"
      ],
      "execution_count": 41,
      "outputs": [
        {
          "output_type": "execute_result",
          "data": {
            "text/plain": [
              "array([[2.04551142e-07, 4.59891639e-11, 7.78771209e-06, 2.45281208e-05,\n",
              "        5.29807535e-12, 3.42903830e-11, 1.62145511e-13, 9.99966502e-01,\n",
              "        4.78646086e-07, 5.33639991e-07],\n",
              "       [1.62778910e-08, 5.33253930e-09, 9.99990702e-01, 2.36059505e-11,\n",
              "        4.04418296e-12, 1.93603206e-12, 9.32555668e-06, 8.65640730e-13,\n",
              "        2.74031597e-09, 1.04018194e-13],\n",
              "       [5.62074831e-07, 9.97524679e-01, 4.11184465e-06, 6.06958608e-08,\n",
              "        6.45489781e-05, 7.15895976e-06, 2.63664642e-05, 1.13047117e-05,\n",
              "        2.36116420e-03, 1.01203375e-08],\n",
              "       [9.99973178e-01, 1.36440331e-10, 5.35898659e-09, 3.30828115e-10,\n",
              "        6.97395649e-07, 1.30697416e-07, 2.02444153e-05, 4.91656920e-08,\n",
              "        1.01968988e-06, 4.53205666e-06],\n",
              "       [8.19375767e-09, 5.14170095e-10, 4.39769471e-10, 4.97875421e-11,\n",
              "        9.99998808e-01, 2.88432211e-09, 4.26289848e-09, 1.92207388e-08,\n",
              "        4.09371523e-08, 1.17844706e-06],\n",
              "       [2.70133569e-06, 9.99513507e-01, 4.89417471e-06, 6.54754562e-09,\n",
              "        2.99357143e-05, 6.35934953e-07, 6.05433002e-07, 4.06863139e-04,\n",
              "        4.03746344e-05, 4.74019345e-07],\n",
              "       [2.04200168e-09, 5.42432730e-08, 3.80940754e-08, 2.86169688e-09,\n",
              "        9.97473180e-01, 1.72739999e-06, 1.14302491e-10, 5.90002136e-09,\n",
              "        9.44194908e-04, 1.58083322e-03],\n",
              "       [1.14043931e-12, 2.46546561e-09, 7.41188166e-10, 1.06532640e-08,\n",
              "        1.79795129e-03, 8.89726198e-06, 1.73445658e-09, 1.00612141e-08,\n",
              "        6.74378953e-08, 9.98192966e-01],\n",
              "       [3.05818212e-05, 2.08800872e-14, 1.53255811e-10, 5.05698088e-12,\n",
              "        3.46394469e-10, 8.51970494e-01, 1.47496149e-01, 5.65272863e-11,\n",
              "        5.01356088e-04, 1.34407389e-06],\n",
              "       [5.38801848e-09, 7.57625733e-12, 8.38036932e-11, 1.75704406e-06,\n",
              "        3.97548807e-04, 1.47181169e-07, 2.67322254e-12, 3.15528072e-04,\n",
              "        8.08488892e-07, 9.99284208e-01]], dtype=float32)"
            ]
          },
          "metadata": {},
          "execution_count": 41
        }
      ]
    },
    {
      "cell_type": "code",
      "metadata": {
        "colab": {
          "base_uri": "https://localhost:8080/"
        },
        "id": "KAi3QM6UikhR",
        "outputId": "b2f4a621-b997-4bed-d3d7-c6031d11e1d5"
      },
      "source": [
        "y_test[:10]"
      ],
      "execution_count": 42,
      "outputs": [
        {
          "output_type": "execute_result",
          "data": {
            "text/plain": [
              "array([[0., 0., 0., 0., 0., 0., 0., 1., 0., 0.],\n",
              "       [0., 0., 1., 0., 0., 0., 0., 0., 0., 0.],\n",
              "       [0., 1., 0., 0., 0., 0., 0., 0., 0., 0.],\n",
              "       [1., 0., 0., 0., 0., 0., 0., 0., 0., 0.],\n",
              "       [0., 0., 0., 0., 1., 0., 0., 0., 0., 0.],\n",
              "       [0., 1., 0., 0., 0., 0., 0., 0., 0., 0.],\n",
              "       [0., 0., 0., 0., 1., 0., 0., 0., 0., 0.],\n",
              "       [0., 0., 0., 0., 0., 0., 0., 0., 0., 1.],\n",
              "       [0., 0., 0., 0., 0., 1., 0., 0., 0., 0.],\n",
              "       [0., 0., 0., 0., 0., 0., 0., 0., 0., 1.]], dtype=float32)"
            ]
          },
          "metadata": {},
          "execution_count": 42
        }
      ]
    },
    {
      "cell_type": "code",
      "metadata": {
        "id": "-hPUH5zQjWQj"
      },
      "source": [
        ""
      ],
      "execution_count": null,
      "outputs": []
    }
  ]
}